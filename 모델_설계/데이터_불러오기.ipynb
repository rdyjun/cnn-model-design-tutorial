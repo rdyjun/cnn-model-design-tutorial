{
 "cells": [
  {
   "cell_type": "markdown",
   "metadata": {},
   "source": [
    "### 데이터셋 준비\n",
    "학습시키고자 하는 데이터셋 가져오기<br>\n",
    "학습이 목적인 `train_data`와 모델 정확도 테스트를 위한 `test_data`로 분류"
   ]
  },
  {
   "cell_type": "code",
   "execution_count": null,
   "metadata": {},
   "outputs": [],
   "source": [
    "train_data = CIFAR10(root='./data', train=True, transform=transform)\n",
    "test_data = CIFAR10(root='./data', train=False, transform=transform)"
   ]
  },
  {
   "cell_type": "markdown",
   "metadata": {},
   "source": []
  }
 ],
 "metadata": {
  "language_info": {
   "name": "python"
  }
 },
 "nbformat": 4,
 "nbformat_minor": 2
}
