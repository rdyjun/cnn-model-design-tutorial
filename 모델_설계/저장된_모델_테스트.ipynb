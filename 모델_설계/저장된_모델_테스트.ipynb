{
 "cells": [
  {
   "cell_type": "markdown",
   "metadata": {},
   "source": [
    "## 저장된 모델 테스트\n",
    "학습 후 저장한 모델을 불러와 테스트\n",
    "> 기존 코드를 수정하여 진행\n",
    "\n",
    "### 저장된 모델 불러오기\n",
    "`model = CNN()` 코드 이후에 아래 코드를 통해 저장된 모델을 불러오기"
   ]
  },
  {
   "cell_type": "code",
   "execution_count": null,
   "metadata": {},
   "outputs": [],
   "source": [
    "model = CNN()\n",
    "model.load_state_dict(torch.load('./model-4.pt'))"
   ]
  },
  {
   "cell_type": "markdown",
   "metadata": {},
   "source": [
    "### 최하위 epochs를 통한 반복문 수정\n",
    "테스트를 목적으로 `학습 단계` 및 `저장 단계` 삭제"
   ]
  },
  {
   "cell_type": "code",
   "execution_count": null,
   "metadata": {},
   "outputs": [],
   "source": [
    "for epoch in range(epochs):\n",
    "    # train(model, train_loader, optimizer, epoch)\n",
    "    test(model, test_loader, epoch)\n",
    "    # save_model(model, epoch)"
   ]
  },
  {
   "cell_type": "markdown",
   "metadata": {},
   "source": [
    "### 최종 코드 실행\n",
    "\n",
    "좌측 상단의 `Run 아이콘` -> `Python 파일 실행`"
   ]
  }
 ],
 "metadata": {
  "language_info": {
   "name": "python"
  }
 },
 "nbformat": 4,
 "nbformat_minor": 2
}
