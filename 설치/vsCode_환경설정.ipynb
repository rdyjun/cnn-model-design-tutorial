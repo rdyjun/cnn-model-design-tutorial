{
 "cells": [
  {
   "cell_type": "markdown",
   "metadata": {},
   "source": [
    "## <img src=\"https://code.visualstudio.com/favicon.ico\" height=\"35\"> Visual Studio Code 환경설정\n",
    "\n",
    "> `Python`, `Anaconda`, `Visual Studio Code` 가 설치되어있다고 가정\n",
    "\n",
    "### VsCode 내 파이썬 코드 실행을 위한 Extension 설치\n",
    "1. Visual Studio Code 좌측 하단 `Extensions` 아이콘 클릭\n",
    "2. 좌측 검색 창에 `code Runner` 검색\n",
    "3. install 진행\n",
    "\n",
    "### 코드 실행 환경 설정\n",
    "1. `Ctrl` + `Shift` + `P` 입력\n",
    "2. 화면에 보여지는 상단 창에 `Terminal` 검색\n",
    "3. `Comand Prompt` 선택\n",
    "4. vsCode 재시작\n",
    "5. `Ctrl` + `Shift` + ` ` ` 입력\n",
    "6. 화면 하단에 생긴 터미널의 우측이 `Command Prompt`로 실행되었는지 확인\n",
    "\n",
    "### Visual Code 실행버튼 설정\n",
    "1. `Ctrl` + `Shift` + `P` 입력\n",
    "2. 화면에 보여지는 상단 창에 `Python: Select Interpreter` 검색\n",
    "3. 검색된 결과 중 `Python {버전} ('base')` 선택\n",
    "4. `Ctrl` + `Shift` + ` ` ` 입력\n",
    "5. 하단의 터미널 창에 아래 명령어 입력을 통해 가상환경 생성\n",
    "- 파이썬 버전은 자신의 PC 환경에 설치된 파이썬 버전에 맞게"
   ]
  },
  {
   "cell_type": "code",
   "execution_count": null,
   "metadata": {
    "vscode": {
     "languageId": "powershell"
    }
   },
   "outputs": [],
   "source": [
    "conda create -n vision python=3.11 # vision이라는 이름의 3.11 파이썬 버전 가상환경 생성\n",
    "# 안내 메시지 출력 시 y 입력\n",
    "conda activate vision # vision 가상 환경에 진입"
   ]
  }
 ],
 "metadata": {
  "language_info": {
   "name": "python"
  }
 },
 "nbformat": 4,
 "nbformat_minor": 2
}
