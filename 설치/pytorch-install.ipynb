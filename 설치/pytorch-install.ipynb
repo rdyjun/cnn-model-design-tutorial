{
 "cells": [
  {
   "cell_type": "markdown",
   "metadata": {},
   "source": [
    "# ![Pytorch 이미지](https://pytorch.org/favicon.ico?) Pytorch 설치\n",
    "\n",
    "## 1. Pytorch 설치 페이지 방문\n",
    "\" test"
   ]
  },
  {
   "cell_type": "markdown",
   "metadata": {},
   "source": []
  },
  {
   "cell_type": "code",
   "execution_count": null,
   "metadata": {},
   "outputs": [],
   "source": []
  }
 ],
 "metadata": {
  "language_info": {
   "name": "python"
  }
 },
 "nbformat": 4,
 "nbformat_minor": 2
}
